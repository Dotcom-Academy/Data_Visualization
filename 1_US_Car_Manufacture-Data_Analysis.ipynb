{
 "cells": [
  {
   "cell_type": "markdown",
   "id": "7906d81c",
   "metadata": {},
   "source": [
    "# US_Cars_Analysis"
   ]
  },
  {
   "cell_type": "code",
   "execution_count": 2,
   "id": "a99faef7",
   "metadata": {},
   "outputs": [],
   "source": [
    "import pandas as pd\n",
    "import matplotlib.pyplot as plt    #for graph plot on data"
   ]
  },
  {
   "cell_type": "code",
   "execution_count": 3,
   "id": "5fc9f5ae",
   "metadata": {},
   "outputs": [],
   "source": [
    "df = pd.read_csv(\"Dataset\\\\USA_cars_datasets.csv\")\n",
    "del df['Unnamed: 0']\n",
    "del df['lot']\n",
    "del df['vin']\n",
    "del df['condition']"
   ]
  },
  {
   "cell_type": "code",
   "execution_count": 4,
   "id": "80006ed0",
   "metadata": {},
   "outputs": [
    {
     "data": {
      "text/html": [
       "<div>\n",
       "<style scoped>\n",
       "    .dataframe tbody tr th:only-of-type {\n",
       "        vertical-align: middle;\n",
       "    }\n",
       "\n",
       "    .dataframe tbody tr th {\n",
       "        vertical-align: top;\n",
       "    }\n",
       "\n",
       "    .dataframe thead th {\n",
       "        text-align: right;\n",
       "    }\n",
       "</style>\n",
       "<table border=\"1\" class=\"dataframe\">\n",
       "  <thead>\n",
       "    <tr style=\"text-align: right;\">\n",
       "      <th></th>\n",
       "      <th>price</th>\n",
       "      <th>brand</th>\n",
       "      <th>model</th>\n",
       "      <th>year</th>\n",
       "      <th>title_status</th>\n",
       "      <th>mileage</th>\n",
       "      <th>color</th>\n",
       "      <th>state</th>\n",
       "      <th>country</th>\n",
       "    </tr>\n",
       "  </thead>\n",
       "  <tbody>\n",
       "    <tr>\n",
       "      <th>0</th>\n",
       "      <td>6300</td>\n",
       "      <td>toyota</td>\n",
       "      <td>cruiser</td>\n",
       "      <td>2008</td>\n",
       "      <td>clean vehicle</td>\n",
       "      <td>274117.0</td>\n",
       "      <td>black</td>\n",
       "      <td>new jersey</td>\n",
       "      <td>usa</td>\n",
       "    </tr>\n",
       "    <tr>\n",
       "      <th>1</th>\n",
       "      <td>2899</td>\n",
       "      <td>ford</td>\n",
       "      <td>se</td>\n",
       "      <td>2011</td>\n",
       "      <td>clean vehicle</td>\n",
       "      <td>190552.0</td>\n",
       "      <td>silver</td>\n",
       "      <td>tennessee</td>\n",
       "      <td>usa</td>\n",
       "    </tr>\n",
       "    <tr>\n",
       "      <th>2</th>\n",
       "      <td>5350</td>\n",
       "      <td>dodge</td>\n",
       "      <td>mpv</td>\n",
       "      <td>2018</td>\n",
       "      <td>clean vehicle</td>\n",
       "      <td>39590.0</td>\n",
       "      <td>silver</td>\n",
       "      <td>georgia</td>\n",
       "      <td>usa</td>\n",
       "    </tr>\n",
       "    <tr>\n",
       "      <th>3</th>\n",
       "      <td>25000</td>\n",
       "      <td>ford</td>\n",
       "      <td>door</td>\n",
       "      <td>2014</td>\n",
       "      <td>clean vehicle</td>\n",
       "      <td>64146.0</td>\n",
       "      <td>blue</td>\n",
       "      <td>virginia</td>\n",
       "      <td>usa</td>\n",
       "    </tr>\n",
       "    <tr>\n",
       "      <th>4</th>\n",
       "      <td>27700</td>\n",
       "      <td>chevrolet</td>\n",
       "      <td>1500</td>\n",
       "      <td>2018</td>\n",
       "      <td>clean vehicle</td>\n",
       "      <td>6654.0</td>\n",
       "      <td>red</td>\n",
       "      <td>florida</td>\n",
       "      <td>usa</td>\n",
       "    </tr>\n",
       "    <tr>\n",
       "      <th>...</th>\n",
       "      <td>...</td>\n",
       "      <td>...</td>\n",
       "      <td>...</td>\n",
       "      <td>...</td>\n",
       "      <td>...</td>\n",
       "      <td>...</td>\n",
       "      <td>...</td>\n",
       "      <td>...</td>\n",
       "      <td>...</td>\n",
       "    </tr>\n",
       "    <tr>\n",
       "      <th>2494</th>\n",
       "      <td>7800</td>\n",
       "      <td>nissan</td>\n",
       "      <td>versa</td>\n",
       "      <td>2019</td>\n",
       "      <td>clean vehicle</td>\n",
       "      <td>23609.0</td>\n",
       "      <td>red</td>\n",
       "      <td>california</td>\n",
       "      <td>usa</td>\n",
       "    </tr>\n",
       "    <tr>\n",
       "      <th>2495</th>\n",
       "      <td>9200</td>\n",
       "      <td>nissan</td>\n",
       "      <td>versa</td>\n",
       "      <td>2018</td>\n",
       "      <td>clean vehicle</td>\n",
       "      <td>34553.0</td>\n",
       "      <td>silver</td>\n",
       "      <td>florida</td>\n",
       "      <td>usa</td>\n",
       "    </tr>\n",
       "    <tr>\n",
       "      <th>2496</th>\n",
       "      <td>9200</td>\n",
       "      <td>nissan</td>\n",
       "      <td>versa</td>\n",
       "      <td>2018</td>\n",
       "      <td>clean vehicle</td>\n",
       "      <td>31594.0</td>\n",
       "      <td>silver</td>\n",
       "      <td>florida</td>\n",
       "      <td>usa</td>\n",
       "    </tr>\n",
       "    <tr>\n",
       "      <th>2497</th>\n",
       "      <td>9200</td>\n",
       "      <td>nissan</td>\n",
       "      <td>versa</td>\n",
       "      <td>2018</td>\n",
       "      <td>clean vehicle</td>\n",
       "      <td>32557.0</td>\n",
       "      <td>black</td>\n",
       "      <td>florida</td>\n",
       "      <td>usa</td>\n",
       "    </tr>\n",
       "    <tr>\n",
       "      <th>2498</th>\n",
       "      <td>9200</td>\n",
       "      <td>nissan</td>\n",
       "      <td>versa</td>\n",
       "      <td>2018</td>\n",
       "      <td>clean vehicle</td>\n",
       "      <td>31371.0</td>\n",
       "      <td>silver</td>\n",
       "      <td>florida</td>\n",
       "      <td>usa</td>\n",
       "    </tr>\n",
       "  </tbody>\n",
       "</table>\n",
       "<p>2499 rows × 9 columns</p>\n",
       "</div>"
      ],
      "text/plain": [
       "      price      brand    model  year   title_status   mileage   color  \\\n",
       "0      6300     toyota  cruiser  2008  clean vehicle  274117.0   black   \n",
       "1      2899       ford       se  2011  clean vehicle  190552.0  silver   \n",
       "2      5350      dodge      mpv  2018  clean vehicle   39590.0  silver   \n",
       "3     25000       ford     door  2014  clean vehicle   64146.0    blue   \n",
       "4     27700  chevrolet     1500  2018  clean vehicle    6654.0     red   \n",
       "...     ...        ...      ...   ...            ...       ...     ...   \n",
       "2494   7800     nissan    versa  2019  clean vehicle   23609.0     red   \n",
       "2495   9200     nissan    versa  2018  clean vehicle   34553.0  silver   \n",
       "2496   9200     nissan    versa  2018  clean vehicle   31594.0  silver   \n",
       "2497   9200     nissan    versa  2018  clean vehicle   32557.0   black   \n",
       "2498   9200     nissan    versa  2018  clean vehicle   31371.0  silver   \n",
       "\n",
       "           state country  \n",
       "0     new jersey     usa  \n",
       "1      tennessee     usa  \n",
       "2        georgia     usa  \n",
       "3       virginia     usa  \n",
       "4        florida     usa  \n",
       "...          ...     ...  \n",
       "2494  california     usa  \n",
       "2495     florida     usa  \n",
       "2496     florida     usa  \n",
       "2497     florida     usa  \n",
       "2498     florida     usa  \n",
       "\n",
       "[2499 rows x 9 columns]"
      ]
     },
     "execution_count": 4,
     "metadata": {},
     "output_type": "execute_result"
    }
   ],
   "source": [
    "df"
   ]
  },
  {
   "cell_type": "code",
   "execution_count": 5,
   "id": "6c834e0a",
   "metadata": {},
   "outputs": [
    {
     "name": "stdout",
     "output_type": "stream",
     "text": [
      "<class 'pandas.core.frame.DataFrame'>\n",
      "RangeIndex: 2499 entries, 0 to 2498\n",
      "Data columns (total 9 columns):\n",
      " #   Column        Non-Null Count  Dtype  \n",
      "---  ------        --------------  -----  \n",
      " 0   price         2499 non-null   int64  \n",
      " 1   brand         2499 non-null   object \n",
      " 2   model         2499 non-null   object \n",
      " 3   year          2499 non-null   int64  \n",
      " 4   title_status  2499 non-null   object \n",
      " 5   mileage       2499 non-null   float64\n",
      " 6   color         2499 non-null   object \n",
      " 7   state         2499 non-null   object \n",
      " 8   country       2499 non-null   object \n",
      "dtypes: float64(1), int64(2), object(6)\n",
      "memory usage: 175.8+ KB\n"
     ]
    }
   ],
   "source": [
    "df.info()"
   ]
  },
  {
   "cell_type": "code",
   "execution_count": 6,
   "id": "cccfdb5a",
   "metadata": {},
   "outputs": [
    {
     "data": {
      "text/plain": [
       "price           0\n",
       "brand           0\n",
       "model           0\n",
       "year            0\n",
       "title_status    0\n",
       "mileage         0\n",
       "color           0\n",
       "state           0\n",
       "country         0\n",
       "dtype: int64"
      ]
     },
     "execution_count": 6,
     "metadata": {},
     "output_type": "execute_result"
    }
   ],
   "source": [
    "df.isnull().sum()"
   ]
  },
  {
   "cell_type": "code",
   "execution_count": 7,
   "id": "0be9000d",
   "metadata": {},
   "outputs": [
    {
     "data": {
      "text/plain": [
       "array(['toyota', 'ford', 'dodge', 'chevrolet', 'gmc', 'chrysler', 'kia',\n",
       "       'buick', 'infiniti', 'mercedes-benz', 'jeep', 'bmw', 'cadillac',\n",
       "       'hyundai', 'mazda', 'honda', 'heartland', 'jaguar', 'acura',\n",
       "       'harley-davidson', 'audi', 'lincoln', 'lexus', 'nissan', 'land',\n",
       "       'maserati', 'peterbilt', 'ram'], dtype=object)"
      ]
     },
     "execution_count": 7,
     "metadata": {},
     "output_type": "execute_result"
    }
   ],
   "source": [
    "df['brand'].unique()"
   ]
  },
  {
   "cell_type": "code",
   "execution_count": 8,
   "id": "b36ea497",
   "metadata": {},
   "outputs": [
    {
     "data": {
      "text/plain": [
       "array(['cruiser', 'se', 'mpv', 'door', '1500', 'pk', 'malibu', 'coupe',\n",
       "       'wagon', 'forte', 'encore', 'sorento', 'doors', 'chassis', 'q70',\n",
       "       'camaro', 'convertible', 'vans', 'srw', 'compass', 'enclave',\n",
       "       '300', 'cherokee', 'pacifica', 'x3', 'equinox', 'challenger', 'm',\n",
       "       'colorado', 'focus', 'durango', 'escape', 'charger', 'explorer',\n",
       "       'f-150', '3500', 'caravan', 'van', 'dart', '2500', 'esv',\n",
       "       'cutaway', 'el', 'edge', 'series', 'flex', 'srx', 'cab', 'pickup',\n",
       "       'vehicl', 'trax', 'tahoe', 'suburban', 'cargo', 'drw', 'fiesta',\n",
       "       'impala', 'soul', 'elantra', 'pioneer', 'trail', 'traverse',\n",
       "       'country', 'sundance', 'road/street', 'nautilus', 'gx', 'q5',\n",
       "       'gle', 'sportage', '5', 'sport', 'discovery', 'acadia', 'ghibli',\n",
       "       'glc', 'e-class', 'truck', 'utility', 'limited', 'sl-class',\n",
       "       'cx-3', '2500hd', 'sonic', 'corvette', 'mdx', 'xt5', 'fusion',\n",
       "       'mustang', 'passenger', 'volt', 'spark', 'cruze', 'ld', 'journey',\n",
       "       'transit', 'ranger', 'taurus', 'max', 'energi', 'expedition',\n",
       "       'bus', 'ecosport', 'f-750', 'd', 'dr', 'hybrid', 'suv', 'connect',\n",
       "       'f-650', 'sentra', 'altima', 'frontier', 'rogue', 'maxima',\n",
       "       'versa', 'note', 'armada', 'pathfinder', 'titan', 'sedan', 'juke',\n",
       "       'murano', 'xterra', 'kicks', 'xd', 'nvp'], dtype=object)"
      ]
     },
     "execution_count": 8,
     "metadata": {},
     "output_type": "execute_result"
    }
   ],
   "source": [
    "df['model'].unique()"
   ]
  },
  {
   "cell_type": "code",
   "execution_count": 9,
   "id": "764af6e7",
   "metadata": {},
   "outputs": [
    {
     "data": {
      "text/plain": [
       "28"
      ]
     },
     "execution_count": 9,
     "metadata": {},
     "output_type": "execute_result"
    }
   ],
   "source": [
    "len(df['brand'].unique())"
   ]
  },
  {
   "cell_type": "code",
   "execution_count": 10,
   "id": "bb9b5284",
   "metadata": {},
   "outputs": [
    {
     "data": {
      "text/html": [
       "<div>\n",
       "<style scoped>\n",
       "    .dataframe tbody tr th:only-of-type {\n",
       "        vertical-align: middle;\n",
       "    }\n",
       "\n",
       "    .dataframe tbody tr th {\n",
       "        vertical-align: top;\n",
       "    }\n",
       "\n",
       "    .dataframe thead th {\n",
       "        text-align: right;\n",
       "    }\n",
       "</style>\n",
       "<table border=\"1\" class=\"dataframe\">\n",
       "  <thead>\n",
       "    <tr style=\"text-align: right;\">\n",
       "      <th></th>\n",
       "      <th>price</th>\n",
       "      <th>year</th>\n",
       "      <th>mileage</th>\n",
       "    </tr>\n",
       "  </thead>\n",
       "  <tbody>\n",
       "    <tr>\n",
       "      <th>count</th>\n",
       "      <td>2499.000000</td>\n",
       "      <td>2499.000000</td>\n",
       "      <td>2.499000e+03</td>\n",
       "    </tr>\n",
       "    <tr>\n",
       "      <th>mean</th>\n",
       "      <td>18767.671469</td>\n",
       "      <td>2016.714286</td>\n",
       "      <td>5.229869e+04</td>\n",
       "    </tr>\n",
       "    <tr>\n",
       "      <th>std</th>\n",
       "      <td>12116.094936</td>\n",
       "      <td>3.442656</td>\n",
       "      <td>5.970552e+04</td>\n",
       "    </tr>\n",
       "    <tr>\n",
       "      <th>min</th>\n",
       "      <td>0.000000</td>\n",
       "      <td>1973.000000</td>\n",
       "      <td>0.000000e+00</td>\n",
       "    </tr>\n",
       "    <tr>\n",
       "      <th>25%</th>\n",
       "      <td>10200.000000</td>\n",
       "      <td>2016.000000</td>\n",
       "      <td>2.146650e+04</td>\n",
       "    </tr>\n",
       "    <tr>\n",
       "      <th>50%</th>\n",
       "      <td>16900.000000</td>\n",
       "      <td>2018.000000</td>\n",
       "      <td>3.536500e+04</td>\n",
       "    </tr>\n",
       "    <tr>\n",
       "      <th>75%</th>\n",
       "      <td>25555.500000</td>\n",
       "      <td>2019.000000</td>\n",
       "      <td>6.347250e+04</td>\n",
       "    </tr>\n",
       "    <tr>\n",
       "      <th>max</th>\n",
       "      <td>84900.000000</td>\n",
       "      <td>2020.000000</td>\n",
       "      <td>1.017936e+06</td>\n",
       "    </tr>\n",
       "  </tbody>\n",
       "</table>\n",
       "</div>"
      ],
      "text/plain": [
       "              price         year       mileage\n",
       "count   2499.000000  2499.000000  2.499000e+03\n",
       "mean   18767.671469  2016.714286  5.229869e+04\n",
       "std    12116.094936     3.442656  5.970552e+04\n",
       "min        0.000000  1973.000000  0.000000e+00\n",
       "25%    10200.000000  2016.000000  2.146650e+04\n",
       "50%    16900.000000  2018.000000  3.536500e+04\n",
       "75%    25555.500000  2019.000000  6.347250e+04\n",
       "max    84900.000000  2020.000000  1.017936e+06"
      ]
     },
     "execution_count": 10,
     "metadata": {},
     "output_type": "execute_result"
    }
   ],
   "source": [
    "df.describe()"
   ]
  },
  {
   "cell_type": "code",
   "execution_count": 11,
   "id": "6ab7efbe",
   "metadata": {},
   "outputs": [
    {
     "name": "stdout",
     "output_type": "stream",
     "text": [
      "Average Price 18767.671468587436\n",
      "Average Price 18767.671468587436\n",
      "\n",
      "Average mileage 52298.685474189675\n",
      "Max mileage 1017936.0\n"
     ]
    }
   ],
   "source": [
    "print(\"Average Price\",df['price'].sum()/len(df['price']))\n",
    "print(\"Average Price\",df['price'].mean())\n",
    "\n",
    "print(\"\\nAverage mileage\",df['mileage'].mean())\n",
    "print(\"Max mileage\",df['mileage'].max())"
   ]
  },
  {
   "cell_type": "code",
   "execution_count": 12,
   "id": "eace777c",
   "metadata": {},
   "outputs": [
    {
     "data": {
      "text/html": [
       "<div>\n",
       "<style scoped>\n",
       "    .dataframe tbody tr th:only-of-type {\n",
       "        vertical-align: middle;\n",
       "    }\n",
       "\n",
       "    .dataframe tbody tr th {\n",
       "        vertical-align: top;\n",
       "    }\n",
       "\n",
       "    .dataframe thead th {\n",
       "        text-align: right;\n",
       "    }\n",
       "</style>\n",
       "<table border=\"1\" class=\"dataframe\">\n",
       "  <thead>\n",
       "    <tr style=\"text-align: right;\">\n",
       "      <th></th>\n",
       "      <th>price</th>\n",
       "      <th>brand</th>\n",
       "      <th>model</th>\n",
       "      <th>year</th>\n",
       "      <th>title_status</th>\n",
       "      <th>mileage</th>\n",
       "      <th>color</th>\n",
       "      <th>state</th>\n",
       "      <th>country</th>\n",
       "    </tr>\n",
       "  </thead>\n",
       "  <tbody>\n",
       "    <tr>\n",
       "      <th>0</th>\n",
       "      <td>6300</td>\n",
       "      <td>toyota</td>\n",
       "      <td>cruiser</td>\n",
       "      <td>2008</td>\n",
       "      <td>clean vehicle</td>\n",
       "      <td>274117.0</td>\n",
       "      <td>black</td>\n",
       "      <td>new jersey</td>\n",
       "      <td>usa</td>\n",
       "    </tr>\n",
       "  </tbody>\n",
       "</table>\n",
       "</div>"
      ],
      "text/plain": [
       "   price   brand    model  year   title_status   mileage  color       state  \\\n",
       "0   6300  toyota  cruiser  2008  clean vehicle  274117.0  black  new jersey   \n",
       "\n",
       "  country  \n",
       "0     usa  "
      ]
     },
     "execution_count": 12,
     "metadata": {},
     "output_type": "execute_result"
    }
   ],
   "source": [
    "df[df['brand'] == 'toyota']"
   ]
  },
  {
   "cell_type": "code",
   "execution_count": 13,
   "id": "7fe6c583",
   "metadata": {},
   "outputs": [
    {
     "data": {
      "text/html": [
       "<div>\n",
       "<style scoped>\n",
       "    .dataframe tbody tr th:only-of-type {\n",
       "        vertical-align: middle;\n",
       "    }\n",
       "\n",
       "    .dataframe tbody tr th {\n",
       "        vertical-align: top;\n",
       "    }\n",
       "\n",
       "    .dataframe thead th {\n",
       "        text-align: right;\n",
       "    }\n",
       "</style>\n",
       "<table border=\"1\" class=\"dataframe\">\n",
       "  <thead>\n",
       "    <tr style=\"text-align: right;\">\n",
       "      <th></th>\n",
       "      <th>price</th>\n",
       "      <th>brand</th>\n",
       "      <th>model</th>\n",
       "      <th>year</th>\n",
       "      <th>title_status</th>\n",
       "      <th>mileage</th>\n",
       "      <th>color</th>\n",
       "      <th>state</th>\n",
       "      <th>country</th>\n",
       "    </tr>\n",
       "  </thead>\n",
       "  <tbody>\n",
       "    <tr>\n",
       "      <th>1</th>\n",
       "      <td>2899</td>\n",
       "      <td>ford</td>\n",
       "      <td>se</td>\n",
       "      <td>2011</td>\n",
       "      <td>clean vehicle</td>\n",
       "      <td>190552.0</td>\n",
       "      <td>silver</td>\n",
       "      <td>tennessee</td>\n",
       "      <td>usa</td>\n",
       "    </tr>\n",
       "    <tr>\n",
       "      <th>3</th>\n",
       "      <td>25000</td>\n",
       "      <td>ford</td>\n",
       "      <td>door</td>\n",
       "      <td>2014</td>\n",
       "      <td>clean vehicle</td>\n",
       "      <td>64146.0</td>\n",
       "      <td>blue</td>\n",
       "      <td>virginia</td>\n",
       "      <td>usa</td>\n",
       "    </tr>\n",
       "    <tr>\n",
       "      <th>9</th>\n",
       "      <td>5250</td>\n",
       "      <td>ford</td>\n",
       "      <td>mpv</td>\n",
       "      <td>2017</td>\n",
       "      <td>clean vehicle</td>\n",
       "      <td>63418.0</td>\n",
       "      <td>black</td>\n",
       "      <td>texas</td>\n",
       "      <td>usa</td>\n",
       "    </tr>\n",
       "    <tr>\n",
       "      <th>14</th>\n",
       "      <td>20700</td>\n",
       "      <td>ford</td>\n",
       "      <td>door</td>\n",
       "      <td>2013</td>\n",
       "      <td>clean vehicle</td>\n",
       "      <td>100757.0</td>\n",
       "      <td>black</td>\n",
       "      <td>virginia</td>\n",
       "      <td>usa</td>\n",
       "    </tr>\n",
       "    <tr>\n",
       "      <th>18</th>\n",
       "      <td>5210</td>\n",
       "      <td>ford</td>\n",
       "      <td>mpv</td>\n",
       "      <td>2017</td>\n",
       "      <td>clean vehicle</td>\n",
       "      <td>35714.0</td>\n",
       "      <td>white</td>\n",
       "      <td>texas</td>\n",
       "      <td>usa</td>\n",
       "    </tr>\n",
       "    <tr>\n",
       "      <th>...</th>\n",
       "      <td>...</td>\n",
       "      <td>...</td>\n",
       "      <td>...</td>\n",
       "      <td>...</td>\n",
       "      <td>...</td>\n",
       "      <td>...</td>\n",
       "      <td>...</td>\n",
       "      <td>...</td>\n",
       "      <td>...</td>\n",
       "    </tr>\n",
       "    <tr>\n",
       "      <th>2199</th>\n",
       "      <td>13800</td>\n",
       "      <td>ford</td>\n",
       "      <td>fusion</td>\n",
       "      <td>2019</td>\n",
       "      <td>clean vehicle</td>\n",
       "      <td>29345.0</td>\n",
       "      <td>white</td>\n",
       "      <td>north carolina</td>\n",
       "      <td>usa</td>\n",
       "    </tr>\n",
       "    <tr>\n",
       "      <th>2200</th>\n",
       "      <td>56000</td>\n",
       "      <td>ford</td>\n",
       "      <td>srw</td>\n",
       "      <td>2018</td>\n",
       "      <td>clean vehicle</td>\n",
       "      <td>25371.0</td>\n",
       "      <td>black</td>\n",
       "      <td>pennsylvania</td>\n",
       "      <td>usa</td>\n",
       "    </tr>\n",
       "    <tr>\n",
       "      <th>2201</th>\n",
       "      <td>13800</td>\n",
       "      <td>ford</td>\n",
       "      <td>fusion</td>\n",
       "      <td>2019</td>\n",
       "      <td>clean vehicle</td>\n",
       "      <td>30054.0</td>\n",
       "      <td>silver</td>\n",
       "      <td>north carolina</td>\n",
       "      <td>usa</td>\n",
       "    </tr>\n",
       "    <tr>\n",
       "      <th>2202</th>\n",
       "      <td>45800</td>\n",
       "      <td>ford</td>\n",
       "      <td>srw</td>\n",
       "      <td>2018</td>\n",
       "      <td>clean vehicle</td>\n",
       "      <td>11173.0</td>\n",
       "      <td>white</td>\n",
       "      <td>pennsylvania</td>\n",
       "      <td>usa</td>\n",
       "    </tr>\n",
       "    <tr>\n",
       "      <th>2203</th>\n",
       "      <td>13800</td>\n",
       "      <td>ford</td>\n",
       "      <td>fusion</td>\n",
       "      <td>2019</td>\n",
       "      <td>clean vehicle</td>\n",
       "      <td>30902.0</td>\n",
       "      <td>no_color</td>\n",
       "      <td>north carolina</td>\n",
       "      <td>usa</td>\n",
       "    </tr>\n",
       "  </tbody>\n",
       "</table>\n",
       "<p>1235 rows × 9 columns</p>\n",
       "</div>"
      ],
      "text/plain": [
       "      price brand   model  year   title_status   mileage     color  \\\n",
       "1      2899  ford      se  2011  clean vehicle  190552.0    silver   \n",
       "3     25000  ford    door  2014  clean vehicle   64146.0      blue   \n",
       "9      5250  ford     mpv  2017  clean vehicle   63418.0     black   \n",
       "14    20700  ford    door  2013  clean vehicle  100757.0     black   \n",
       "18     5210  ford     mpv  2017  clean vehicle   35714.0     white   \n",
       "...     ...   ...     ...   ...            ...       ...       ...   \n",
       "2199  13800  ford  fusion  2019  clean vehicle   29345.0     white   \n",
       "2200  56000  ford     srw  2018  clean vehicle   25371.0     black   \n",
       "2201  13800  ford  fusion  2019  clean vehicle   30054.0    silver   \n",
       "2202  45800  ford     srw  2018  clean vehicle   11173.0     white   \n",
       "2203  13800  ford  fusion  2019  clean vehicle   30902.0  no_color   \n",
       "\n",
       "               state country  \n",
       "1          tennessee     usa  \n",
       "3           virginia     usa  \n",
       "9              texas     usa  \n",
       "14          virginia     usa  \n",
       "18             texas     usa  \n",
       "...              ...     ...  \n",
       "2199  north carolina     usa  \n",
       "2200    pennsylvania     usa  \n",
       "2201  north carolina     usa  \n",
       "2202    pennsylvania     usa  \n",
       "2203  north carolina     usa  \n",
       "\n",
       "[1235 rows x 9 columns]"
      ]
     },
     "execution_count": 13,
     "metadata": {},
     "output_type": "execute_result"
    }
   ],
   "source": [
    "df[df['brand'] == 'ford']"
   ]
  },
  {
   "cell_type": "code",
   "execution_count": 14,
   "id": "5fd6b48f",
   "metadata": {},
   "outputs": [
    {
     "data": {
      "text/plain": [
       "1235"
      ]
     },
     "execution_count": 14,
     "metadata": {},
     "output_type": "execute_result"
    }
   ],
   "source": [
    "len(df[df['brand'] == 'ford'])"
   ]
  },
  {
   "cell_type": "code",
   "execution_count": 15,
   "id": "74fcacc2",
   "metadata": {},
   "outputs": [
    {
     "name": "stdout",
     "output_type": "stream",
     "text": [
      "toyota : 1\n",
      "ford : 1235\n",
      "dodge : 432\n",
      "chevrolet : 297\n",
      "gmc : 42\n",
      "chrysler : 18\n",
      "kia : 13\n",
      "buick : 13\n",
      "infiniti : 12\n",
      "mercedes-benz : 10\n",
      "jeep : 30\n",
      "bmw : 17\n",
      "cadillac : 10\n",
      "hyundai : 15\n",
      "mazda : 2\n",
      "honda : 12\n",
      "heartland : 5\n",
      "jaguar : 1\n",
      "acura : 3\n",
      "harley-davidson : 1\n",
      "audi : 4\n",
      "lincoln : 2\n",
      "lexus : 2\n",
      "nissan : 312\n",
      "land : 4\n",
      "maserati : 1\n",
      "peterbilt : 4\n",
      "ram : 1\n"
     ]
    }
   ],
   "source": [
    "for itm in df['brand'].unique():\n",
    "    print(itm,\":\",len(df[df['brand'] == itm]))"
   ]
  },
  {
   "cell_type": "code",
   "execution_count": 31,
   "id": "88c371a9",
   "metadata": {},
   "outputs": [
    {
     "name": "stdout",
     "output_type": "stream",
     "text": [
      "black : 516\n",
      "silver : 300\n",
      "blue : 151\n",
      "red : 192\n",
      "white : 707\n",
      "gray : 395\n",
      "orange : 20\n",
      "brown : 15\n",
      "no_color : 61\n",
      "gold : 19\n",
      "charcoal : 18\n",
      "turquoise : 1\n",
      "beige : 5\n",
      "green : 24\n",
      "dark blue : 1\n",
      "maroon : 1\n",
      "phantom black : 1\n",
      "yellow : 9\n",
      "color: : 5\n",
      "light blue : 1\n",
      "toreador red : 1\n",
      "bright white clearcoat : 2\n",
      "billet silver metallic clearcoat : 3\n",
      "black clearcoat : 2\n",
      "jazz blue pearlcoat : 1\n",
      "purple : 1\n",
      "ruby red metallic tinted clearcoat : 2\n",
      "triple yellow tri-coat : 3\n",
      "competition orange : 1\n",
      "off-white : 2\n",
      "shadow black : 5\n",
      "magnetic metallic : 6\n",
      "ingot silver metallic : 4\n",
      "ruby red : 1\n",
      "royal crimson metallic tinted clearcoat : 1\n",
      "kona blue metallic : 1\n",
      "oxford white : 4\n",
      "lightning blue : 1\n",
      "ingot silver : 1\n",
      "white platinum tri-coat metallic : 2\n",
      "guard : 1\n",
      "tuxedo black metallic : 2\n",
      "tan : 1\n",
      "burgundy : 1\n",
      "super black : 3\n",
      "cayenne red : 2\n",
      "morningsky blue : 1\n",
      "pearl white : 1\n",
      "glacier white : 1\n"
     ]
    }
   ],
   "source": [
    "for itm in df['color'].unique():\n",
    "    print(itm,\":\",len(df[df['color'] == itm]))"
   ]
  },
  {
   "cell_type": "markdown",
   "id": "dcb17d0f",
   "metadata": {},
   "source": [
    "## Top 5 Car brands in terms of number of cars"
   ]
  },
  {
   "cell_type": "code",
   "execution_count": 17,
   "id": "8bf798c6",
   "metadata": {},
   "outputs": [
    {
     "name": "stdout",
     "output_type": "stream",
     "text": [
      "        brand  freq\n",
      "1        ford  1235\n",
      "2       dodge   432\n",
      "23     nissan   312\n",
      "3   chevrolet   297\n",
      "4         gmc    42\n"
     ]
    },
    {
     "data": {
      "text/plain": [
       "<AxesSubplot:title={'center':'Top 5 Brand vs Frequency'}, xlabel='brand'>"
      ]
     },
     "execution_count": 17,
     "metadata": {},
     "output_type": "execute_result"
    },
    {
     "data": {
      "image/png": "[encoded data removed]",
      "text/plain": [
       "<Figure size 720x360 with 1 Axes>"
      ]
     },
     "metadata": {
      "needs_background": "light"
     },
     "output_type": "display_data"
    }
   ],
   "source": [
    "data=[]\n",
    "for itm in df['brand'].unique():\n",
    "    data.append([itm,len(df[df['brand'] == itm])])\n",
    "#data  \n",
    "brand_graph=pd.DataFrame(data,columns=['brand','freq']).sort_values(by='freq',ascending=False).head()\n",
    "print(brand_graph)\n",
    "brand_graph.plot(x='brand',y='freq',kind='bar',figsize=(10,5),title=\"Top 5 Brand vs Frequency\")\n"
   ]
  },
  {
   "cell_type": "markdown",
   "id": "b838a4dd",
   "metadata": {},
   "source": [
    "## Car brand based on Frequency of Cars"
   ]
  },
  {
   "cell_type": "code",
   "execution_count": 18,
   "id": "d04a3263",
   "metadata": {},
   "outputs": [
    {
     "data": {
      "text/plain": [
       "<AxesSubplot:title={'center':'Brands vs Frequency'}, xlabel='brand'>"
      ]
     },
     "execution_count": 18,
     "metadata": {},
     "output_type": "execute_result"
    },
    {
     "data": {
      "image/png": "[encoded data removed]",
      "text/plain": [
       "<Figure size 720x360 with 1 Axes>"
      ]
     },
     "metadata": {
      "needs_background": "light"
     },
     "output_type": "display_data"
    }
   ],
   "source": [
    "data=[]\n",
    "for itm in df['brand'].unique():\n",
    "    data.append([itm,len(df[df['brand'] == itm])])\n",
    "#data  \n",
    "brand_graph=pd.DataFrame(data,columns=['brand','freq']).sort_values(by='freq',ascending=False)\n",
    "#print(brand_graph)\n",
    "brand_graph.plot(x='brand',y='freq',kind='bar',figsize=(10,5),title=\"Brands vs Frequency\")"
   ]
  },
  {
   "cell_type": "markdown",
   "id": "d53977f1",
   "metadata": {},
   "source": [
    "## Car Industry Trend"
   ]
  },
  {
   "cell_type": "code",
   "execution_count": 19,
   "id": "2ab570d5",
   "metadata": {},
   "outputs": [
    {
     "data": {
      "text/plain": [
       "<AxesSubplot:title={'center':'Year vs Frequency'}, xlabel='year'>"
      ]
     },
     "execution_count": 19,
     "metadata": {},
     "output_type": "execute_result"
    },
    {
     "data": {
      "image/png": "[encoded data removed]",
      "text/plain": [
       "<Figure size 720x360 with 1 Axes>"
      ]
     },
     "metadata": {
      "needs_background": "light"
     },
     "output_type": "display_data"
    }
   ],
   "source": [
    "data=[]\n",
    "for itm in df['year'].unique():\n",
    "    data.append([itm , len(df[df['year'] == itm])])\n",
    "    \n",
    "year_graph=pd.DataFrame(data,columns=['year','freq']).sort_values(by='year')\n",
    "#print(year_graph)\n",
    "\n",
    "year_graph.plot(x='year',y='freq',kind='line',figsize=(10,5),title=\"Year vs Frequency\")"
   ]
  },
  {
   "cell_type": "markdown",
   "id": "ed648509",
   "metadata": {},
   "source": [
    "##  Most Popular Car Colors"
   ]
  },
  {
   "cell_type": "code",
   "execution_count": null,
   "id": "dd6c7835",
   "metadata": {},
   "outputs": [],
   "source": []
  },
  {
   "cell_type": "markdown",
   "id": "563ce97f",
   "metadata": {},
   "source": [
    "## Which car brand is having Maximum Average Price"
   ]
  },
  {
   "cell_type": "code",
   "execution_count": 20,
   "id": "935d69ed",
   "metadata": {},
   "outputs": [
    {
     "data": {
      "text/plain": [
       "<AxesSubplot:title={'center':'brand car max ave price'}, xlabel='brand'>"
      ]
     },
     "execution_count": 20,
     "metadata": {},
     "output_type": "execute_result"
    },
    {
     "data": {
      "image/png": "[encoded data removed]",
      "text/plain": [
       "<Figure size 1080x360 with 1 Axes>"
      ]
     },
     "metadata": {
      "needs_background": "light"
     },
     "output_type": "display_data"
    }
   ],
   "source": [
    "max_prc =df.groupby('brand').mean()['price'].sort_values(ascending=False)#.plot.bar()\n",
    "max_prc.plot(x='brand',y='Price',kind='bar',figsize=(15,5),title=\"brand car max ave price\")"
   ]
  },
  {
   "cell_type": "markdown",
   "id": "1aab8791",
   "metadata": {},
   "source": [
    "## Which State is having most expensive cars"
   ]
  },
  {
   "cell_type": "code",
   "execution_count": 21,
   "id": "b139e1ac",
   "metadata": {},
   "outputs": [
    {
     "data": {
      "text/plain": [
       "<AxesSubplot:xlabel='state'>"
      ]
     },
     "execution_count": 21,
     "metadata": {},
     "output_type": "execute_result"
    },
    {
     "data": {
      "image/png": "[encoded data removed]",
      "text/plain": [
       "<Figure size 1080x360 with 1 Axes>"
      ]
     },
     "metadata": {
      "needs_background": "light"
     },
     "output_type": "display_data"
    }
   ],
   "source": [
    "expen_state =df.groupby('state').mean()['price'].sort_values(ascending=False)\n",
    "expen_state.plot.bar(figsize=(15,5))"
   ]
  },
  {
   "cell_type": "markdown",
   "id": "6934dbba",
   "metadata": {},
   "source": [
    "## Which Year is having most expensive cars"
   ]
  },
  {
   "cell_type": "code",
   "execution_count": 22,
   "id": "c55ef09d",
   "metadata": {},
   "outputs": [
    {
     "data": {
      "text/plain": [
       "<AxesSubplot:xlabel='year'>"
      ]
     },
     "execution_count": 22,
     "metadata": {},
     "output_type": "execute_result"
    },
    {
     "data": {
      "image/png": "[encoded data removed]",
      "text/plain": [
       "<Figure size 1080x360 with 1 Axes>"
      ]
     },
     "metadata": {
      "needs_background": "light"
     },
     "output_type": "display_data"
    }
   ],
   "source": [
    "expen_year = df.groupby('year').mean()['price'].sort_values(ascending=False)\n",
    "expen_year.plot.bar(figsize=(15,5))"
   ]
  },
  {
   "cell_type": "code",
   "execution_count": 28,
   "id": "6bbc0d07",
   "metadata": {},
   "outputs": [
    {
     "name": "stdout",
     "output_type": "stream",
     "text": [
      "price 790\n",
      "brand 28\n",
      "model 127\n",
      "year 30\n",
      "title_status 2\n",
      "mileage 2439\n",
      "color 49\n",
      "state 44\n",
      "country 2\n"
     ]
    }
   ],
   "source": [
    "for i in df.columns:\n",
    "    print(i,len(df[i].unique()))"
   ]
  }
 ],
 "metadata": {
  "kernelspec": {
   "display_name": "Python 3 (ipykernel)",
   "language": "python",
   "name": "python3"
  },
  "language_info": {
   "codemirror_mode": {
    "name": "ipython",
    "version": 3
   },
   "file_extension": ".py",
   "mimetype": "text/x-python",
   "name": "python",
   "nbconvert_exporter": "python",
   "pygments_lexer": "ipython3",
   "version": "3.9.7"
  }
 },
 "nbformat": 4,
 "nbformat_minor": 5
}
